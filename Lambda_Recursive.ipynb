{
  "nbformat": 4,
  "nbformat_minor": 0,
  "metadata": {
    "colab": {
      "name": "Lambda-Recursive.ipynb",
      "provenance": [],
      "authorship_tag": "ABX9TyOW02AxYgPcSD1ShkhOzcgy"
    },
    "kernelspec": {
      "name": "python3",
      "display_name": "Python 3"
    }
  },
  "cells": [
    {
      "cell_type": "markdown",
      "metadata": {
        "id": "iBTdIWKJ_ksP"
      },
      "source": [
        "Lambda Fonksiyonu :\n",
        " \n",
        "etiket = lambda parametre1,parametre2.... :  İşlem"
      ]
    },
    {
      "cell_type": "code",
      "metadata": {
        "colab": {
          "base_uri": "https://localhost:8080/"
        },
        "id": "-Q4Cw3nj_kO6",
        "outputId": "e725cc56-74c1-46b5-ac63-2f3feb2962f1"
      },
      "source": [
        "liste1 = [1,2,3,4,5] \n",
        "liste2 = list()\n",
        "for i in liste1: \n",
        "    liste2.append(i*2)\n",
        "print(liste2)"
      ],
      "execution_count": 1,
      "outputs": [
        {
          "output_type": "stream",
          "text": [
            "[2, 4, 6, 8, 10]\n"
          ],
          "name": "stdout"
        }
      ]
    },
    {
      "cell_type": "code",
      "metadata": {
        "colab": {
          "base_uri": "https://localhost:8080/"
        },
        "id": "vjxpN-4U_5-O",
        "outputId": "58468ba5-ae5b-4585-be72-54e47b2151be"
      },
      "source": [
        "liste3 = [1,2,3,4,5]\n",
        "liste4 = [i * 2 for i in liste3] \n",
        "print(liste4)"
      ],
      "execution_count": 3,
      "outputs": [
        {
          "output_type": "stream",
          "text": [
            "[2, 4, 6, 8, 10]\n"
          ],
          "name": "stdout"
        }
      ]
    },
    {
      "cell_type": "code",
      "metadata": {
        "colab": {
          "base_uri": "https://localhost:8080/"
        },
        "id": "sgYvn1G4__D4",
        "outputId": "5533109c-ef99-4178-bbc3-e14f5d5016a4"
      },
      "source": [
        "def ikiyleçarp(x): # Klasik fonksiyon tanımlama\n",
        "    return x * 2\n",
        "print(ikiyleçarp(2))"
      ],
      "execution_count": 2,
      "outputs": [
        {
          "output_type": "stream",
          "text": [
            "4\n"
          ],
          "name": "stdout"
        }
      ]
    },
    {
      "cell_type": "code",
      "metadata": {
        "colab": {
          "base_uri": "https://localhost:8080/"
        },
        "id": "tAwlBuNaAEK9",
        "outputId": "5a13700e-0079-4106-b9dd-b5ace6bd2c45"
      },
      "source": [
        "ikiyleçarp = lambda x : x * 2 \n",
        " \n",
        "ikiyleçarp(5)"
      ],
      "execution_count": 5,
      "outputs": [
        {
          "output_type": "execute_result",
          "data": {
            "text/plain": [
              "10"
            ]
          },
          "metadata": {
            "tags": []
          },
          "execution_count": 5
        }
      ]
    },
    {
      "cell_type": "code",
      "metadata": {
        "colab": {
          "base_uri": "https://localhost:8080/"
        },
        "id": "Wb0rytT1ALzt",
        "outputId": "41f48da7-c7f9-42f9-abd0-36d7d3add433"
      },
      "source": [
        "def toplama(a,b,c):\n",
        "    return a + b + c\n",
        " \n",
        "print(toplama(3,4,5))"
      ],
      "execution_count": 6,
      "outputs": [
        {
          "output_type": "stream",
          "text": [
            "12\n"
          ],
          "name": "stdout"
        }
      ]
    },
    {
      "cell_type": "code",
      "metadata": {
        "colab": {
          "base_uri": "https://localhost:8080/"
        },
        "id": "KuehWc6pAPqw",
        "outputId": "ddf11319-e1b9-48a4-add9-08c5b36aba88"
      },
      "source": [
        "topla = lambda x,y,z : x + y + z\n",
        " \n",
        "print(topla(3,4,5))"
      ],
      "execution_count": 7,
      "outputs": [
        {
          "output_type": "stream",
          "text": [
            "12\n"
          ],
          "name": "stdout"
        }
      ]
    },
    {
      "cell_type": "code",
      "metadata": {
        "colab": {
          "base_uri": "https://localhost:8080/"
        },
        "id": "QJkE1LGSASlh",
        "outputId": "3a47e86b-5df4-4038-93e7-c875342daefd"
      },
      "source": [
        "def terscevir(s):\n",
        "    return s[::-1]\n",
        "\n",
        "metin=input()\n",
        "print(terscevir(metin))"
      ],
      "execution_count": 13,
      "outputs": [
        {
          "output_type": "stream",
          "text": [
            "Bilgisayar\n",
            "rayasigliB\n"
          ],
          "name": "stdout"
        }
      ]
    },
    {
      "cell_type": "code",
      "metadata": {
        "colab": {
          "base_uri": "https://localhost:8080/"
        },
        "id": "eW6re4OCAZs-",
        "outputId": "5c9aec1e-60f7-4e39-cdab-2afb5ae0ea18"
      },
      "source": [
        "ters =  lambda s : s[::-1]\n",
        "\n",
        "metin=input()\n",
        "print(ters(metin))"
      ],
      "execution_count": 15,
      "outputs": [
        {
          "output_type": "stream",
          "text": [
            "Bilgisayar\n",
            "rayasigliB\n"
          ],
          "name": "stdout"
        }
      ]
    },
    {
      "cell_type": "code",
      "metadata": {
        "colab": {
          "base_uri": "https://localhost:8080/"
        },
        "id": "lv8zB6ulAe4Y",
        "outputId": "40564925-da53-4d4e-ceee-451f857dd053"
      },
      "source": [
        "çifttek = lambda sayı :  sayı % 2 == 0 \n",
        " \n",
        "#çifttek(34)\n",
        " \n",
        "çifttek(13)\n",
        "\n"
      ],
      "execution_count": 17,
      "outputs": [
        {
          "output_type": "execute_result",
          "data": {
            "text/plain": [
              "False"
            ]
          },
          "metadata": {
            "tags": []
          },
          "execution_count": 17
        }
      ]
    },
    {
      "cell_type": "code",
      "metadata": {
        "colab": {
          "base_uri": "https://localhost:8080/"
        },
        "id": "YdQplHGDAmix",
        "outputId": "69e6e68b-72bc-4eff-b433-9422cc859399"
      },
      "source": [
        "x = lambda a : a + 10\n",
        "print(x(5))"
      ],
      "execution_count": 18,
      "outputs": [
        {
          "output_type": "stream",
          "text": [
            "15\n"
          ],
          "name": "stdout"
        }
      ]
    },
    {
      "cell_type": "code",
      "metadata": {
        "colab": {
          "base_uri": "https://localhost:8080/"
        },
        "id": "UuwRia-mAn61",
        "outputId": "b0b6bc7c-fc9a-48a7-bca3-b46b8474c29a"
      },
      "source": [
        "x = lambda a, b : a * b\n",
        "print(x(5, 6))"
      ],
      "execution_count": 19,
      "outputs": [
        {
          "output_type": "stream",
          "text": [
            "30\n"
          ],
          "name": "stdout"
        }
      ]
    },
    {
      "cell_type": "code",
      "metadata": {
        "colab": {
          "base_uri": "https://localhost:8080/"
        },
        "id": "ZupHe7FWAqy4",
        "outputId": "1f5948be-45ea-40c4-a609-8114486f3bad"
      },
      "source": [
        "x = lambda a, b, c : a + b + c\n",
        "print(x(5, 6, 2))"
      ],
      "execution_count": 12,
      "outputs": [
        {
          "output_type": "stream",
          "text": [
            "13\n"
          ],
          "name": "stdout"
        }
      ]
    },
    {
      "cell_type": "code",
      "metadata": {
        "colab": {
          "base_uri": "https://localhost:8080/"
        },
        "id": "v6Y4F9QyAvwv",
        "outputId": "c6a02e80-f0f0-413d-e31a-8beda2972348"
      },
      "source": [
        "def myfunc(n):\n",
        "  return lambda a : a * n\n",
        "#lambda a :a*2\n",
        "mydoubler = myfunc(2)\n",
        "#mydoubler=lambda a :a*2\n",
        "print(mydoubler(15))"
      ],
      "execution_count": 24,
      "outputs": [
        {
          "output_type": "stream",
          "text": [
            "30\n"
          ],
          "name": "stdout"
        }
      ]
    },
    {
      "cell_type": "code",
      "metadata": {
        "colab": {
          "base_uri": "https://localhost:8080/"
        },
        "id": "JiNHtExnAz0t",
        "outputId": "713c6305-027e-48ae-88f9-ba92756610b2"
      },
      "source": [
        "def myfunc(n):\n",
        "  return lambda a : a * n\n",
        "#lambda a:a*3\n",
        "mytripler = myfunc(3)\n",
        "#mytripler=lambda a:a*3\n",
        "print(mytripler(11))"
      ],
      "execution_count": 25,
      "outputs": [
        {
          "output_type": "stream",
          "text": [
            "33\n"
          ],
          "name": "stdout"
        }
      ]
    },
    {
      "cell_type": "code",
      "metadata": {
        "colab": {
          "base_uri": "https://localhost:8080/"
        },
        "id": "Iktyef1aBMi0",
        "outputId": "9f4578f5-1eb1-499b-e02b-f22f17a17c33"
      },
      "source": [
        "def myfunc(n):\n",
        "  return lambda a : a * n\n",
        "\n",
        "mydoubler = myfunc(2)\n",
        "#mydoubler=lambda a:a*2\n",
        "mytripler = myfunc(3)\n",
        "#mytripler=lambda a:a*3\n",
        "print(mydoubler(10))\n",
        "print(mytripler(15))"
      ],
      "execution_count": 27,
      "outputs": [
        {
          "output_type": "stream",
          "text": [
            "20\n",
            "45\n"
          ],
          "name": "stdout"
        }
      ]
    },
    {
      "cell_type": "markdown",
      "metadata": {
        "id": "5Bmf39QEBd_O"
      },
      "source": [
        "Recursive Fonksiyonlar(Öz Yinelemeli Fonksiyonlar)\n",
        "\n",
        "Kendi kendini çağıran fonksiyonlar..."
      ]
    },
    {
      "cell_type": "code",
      "metadata": {
        "colab": {
          "base_uri": "https://localhost:8080/"
        },
        "id": "8sIeWKNPBOy7",
        "outputId": "7dcef660-36ca-4048-f9ed-3bfd49bf15a8"
      },
      "source": [
        "def azalt(s):\n",
        "    if len(s) < 1:\n",
        "        return s\n",
        "    else:\n",
        "        print(s)\n",
        "        return azalt(s[1:])\n",
        "#print(len('Bilgisayar'))\n",
        "print(azalt('Bilgisayar'))\n",
        "#s=Bilgisayar\n",
        "#azalt(ilgisayar)\n",
        "#azalt(lgisayar)\n",
        "#azalt(gisayar)\n",
        "#...... azalt(r) azalt('')\n"
      ],
      "execution_count": 35,
      "outputs": [
        {
          "output_type": "stream",
          "text": [
            "Bilgisayar\n",
            "ilgisayar\n",
            "lgisayar\n",
            "gisayar\n",
            "isayar\n",
            "sayar\n",
            "ayar\n",
            "yar\n",
            "ar\n",
            "r\n",
            "\n"
          ],
          "name": "stdout"
        }
      ]
    },
    {
      "cell_type": "code",
      "metadata": {
        "colab": {
          "base_uri": "https://localhost:8080/"
        },
        "id": "Xp3nmEj-CGCx",
        "outputId": "50496588-581e-4c8e-fc27-c0efe258c9bf"
      },
      "source": [
        "def Usal(sayi,us):#sayı=4 us=1\n",
        "    if us==1:\n",
        "        return sayi\n",
        "    elif us==0:\n",
        "        return 1\n",
        "    else:\n",
        "        return sayi*Usal(sayi,us-1)\n",
        "print(Usal(4,3))\n",
        "#4*usal(4,2)=4*16=64\n",
        "  #4*usal(4,1)=4*4=16\n",
        "      #usal(4,1)=4"
      ],
      "execution_count": 39,
      "outputs": [
        {
          "output_type": "stream",
          "text": [
            "64\n"
          ],
          "name": "stdout"
        }
      ]
    },
    {
      "cell_type": "code",
      "metadata": {
        "colab": {
          "base_uri": "https://localhost:8080/"
        },
        "id": "WRV2hrJbCTAZ",
        "outputId": "36459609-74f3-47ab-b925-68188bc98418"
      },
      "source": [
        "def Faktoriyel(sayi): #sayı=1\n",
        "    if sayi==1:\n",
        "        return 1\n",
        "    else:\n",
        "        return sayi*Faktoriyel(sayi-1)\n",
        "print(Faktoriyel(5))\n",
        "#5*faktoriyel(4) =5*24=120\n",
        "     #4*faktoriyel(3)=4*6=24 \n",
        "          #3*faktoriyel(2)=3*2=6\n",
        "              #2*faktoriyel(1)=2*1"
      ],
      "execution_count": 40,
      "outputs": [
        {
          "output_type": "stream",
          "text": [
            "120\n"
          ],
          "name": "stdout"
        }
      ]
    },
    {
      "cell_type": "markdown",
      "metadata": {
        "id": "c9A5PP1wA_3b"
      },
      "source": [
        "Kaynakça:\n",
        "\n",
        "https://www.yazilimbilimi.org/python-lambda-function-lambda-fonksiyonlar/ \n",
        "\n",
        "https://www.w3schools.com/python/python_lambda.asp\n",
        "\n",
        "https://python-istihza.yazbel.com/ileri_fonksiyonlar.html\n",
        "\n",
        "https://yazilimhanem.com/python-recursive/"
      ]
    }
  ]
}